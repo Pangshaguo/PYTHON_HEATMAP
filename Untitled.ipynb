{
 "cells": [
  {
   "cell_type": "code",
   "execution_count": 7,
   "id": "e2461847",
   "metadata": {},
   "outputs": [],
   "source": [
    "animal = 'ammmmmm'\n",
    "\n",
    "\n",
    "\n",
    "\n",
    "\n"
   ]
  },
  {
   "cell_type": "code",
   "execution_count": 6,
   "id": "4a610ad1",
   "metadata": {},
   "outputs": [
    {
     "ename": "UnboundLocalError",
     "evalue": "cannot access local variable 'animal' where it is not associated with a value",
     "output_type": "error",
     "traceback": [
      "\u001b[0;31m---------------------------------------------------------------------------\u001b[0m",
      "\u001b[0;31mUnboundLocalError\u001b[0m                         Traceback (most recent call last)",
      "Cell \u001b[0;32mIn[6], line 6\u001b[0m\n\u001b[1;32m      3\u001b[0m     animal \u001b[38;5;241m=\u001b[39m \u001b[38;5;124m'\u001b[39m\u001b[38;5;124mwombat\u001b[39m\u001b[38;5;124m'\u001b[39m\n\u001b[1;32m      4\u001b[0m     \u001b[38;5;28mprint\u001b[39m(\u001b[38;5;124m'\u001b[39m\u001b[38;5;124mafter the change:\u001b[39m\u001b[38;5;124m'\u001b[39m, animal) \n\u001b[0;32m----> 6\u001b[0m change_and_print_global()\n",
      "Cell \u001b[0;32mIn[6], line 2\u001b[0m, in \u001b[0;36mchange_and_print_global\u001b[0;34m()\u001b[0m\n\u001b[1;32m      1\u001b[0m \u001b[38;5;28;01mdef\u001b[39;00m \u001b[38;5;21mchange_and_print_global\u001b[39m():\n\u001b[0;32m----> 2\u001b[0m     \u001b[38;5;28mprint\u001b[39m(\u001b[38;5;124m'\u001b[39m\u001b[38;5;124minside change_and_print_global:\u001b[39m\u001b[38;5;124m'\u001b[39m, animal)      \n\u001b[1;32m      3\u001b[0m     animal \u001b[38;5;241m=\u001b[39m \u001b[38;5;124m'\u001b[39m\u001b[38;5;124mwombat\u001b[39m\u001b[38;5;124m'\u001b[39m\n\u001b[1;32m      4\u001b[0m     \u001b[38;5;28mprint\u001b[39m(\u001b[38;5;124m'\u001b[39m\u001b[38;5;124mafter the change:\u001b[39m\u001b[38;5;124m'\u001b[39m, animal)\n",
      "\u001b[0;31mUnboundLocalError\u001b[0m: cannot access local variable 'animal' where it is not associated with a value"
     ]
    }
   ],
   "source": [
    "def change_and_print_global():\n",
    "    print('inside change_and_print_global:', animal)      \n",
    "    animal = 'wombat'\n",
    "    print('after the change:', animal) \n",
    "\n",
    "change_and_print_global() \n"
   ]
  },
  {
   "cell_type": "code",
   "execution_count": null,
   "id": "88362225",
   "metadata": {},
   "outputs": [],
   "source": []
  }
 ],
 "metadata": {
  "kernelspec": {
   "display_name": "Python 3 (ipykernel)",
   "language": "python",
   "name": "python3"
  },
  "language_info": {
   "codemirror_mode": {
    "name": "ipython",
    "version": 3
   },
   "file_extension": ".py",
   "mimetype": "text/x-python",
   "name": "python",
   "nbconvert_exporter": "python",
   "pygments_lexer": "ipython3",
   "version": "3.11.4"
  }
 },
 "nbformat": 4,
 "nbformat_minor": 5
}
